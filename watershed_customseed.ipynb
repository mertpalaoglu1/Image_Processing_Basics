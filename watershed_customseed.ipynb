{
 "cells": [
  {
   "cell_type": "code",
   "execution_count": 1,
   "metadata": {},
   "outputs": [],
   "source": [
    "import cv2\n",
    "import numpy as np\n",
    "import matplotlib.pyplot as plt\n",
    "%matplotlib inline"
   ]
  },
  {
   "cell_type": "code",
   "execution_count": 2,
   "metadata": {},
   "outputs": [],
   "source": [
    "road = cv2.imread('DATA/road_image.jpg')"
   ]
  },
  {
   "cell_type": "code",
   "execution_count": 3,
   "metadata": {},
   "outputs": [],
   "source": [
    "road_copy= np.copy(road)"
   ]
  },
  {
   "cell_type": "code",
   "execution_count": 4,
   "metadata": {},
   "outputs": [],
   "source": [
    "marker_image = np.zeros(road.shape[:2],dtype=np.uint32)\n"
   ]
  },
  {
   "cell_type": "code",
   "execution_count": 5,
   "metadata": {},
   "outputs": [],
   "source": [
    "segments = np.zeros (road.shape,dtype=np.uint8)"
   ]
  },
  {
   "cell_type": "code",
   "execution_count": 6,
   "metadata": {},
   "outputs": [],
   "source": [
    "from matplotlib import cm  # matplot renk kanalalrı için."
   ]
  },
  {
   "cell_type": "code",
   "execution_count": null,
   "metadata": {},
   "outputs": [],
   "source": [
    "cm.tab10(0)"
   ]
  },
  {
   "cell_type": "code",
   "execution_count": 8,
   "metadata": {},
   "outputs": [],
   "source": [
    "def create_rgb(i):\n",
    "        return tuple(np.array(cm.tab10(i)[:3])*255) #rgb'yi aldık ve 0-255 arası yaptık"
   ]
  },
  {
   "cell_type": "code",
   "execution_count": 9,
   "metadata": {},
   "outputs": [],
   "source": [
    "colors = []\n",
    "for i in range(10):\n",
    "        colors.append(create_rgb(i))"
   ]
  },
  {
   "cell_type": "code",
   "execution_count": 10,
   "metadata": {},
   "outputs": [],
   "source": [
    "###\n",
    "#global variables\n",
    "#color choice\n",
    "n_markers = 10 #0-9 arası\n",
    "current_marker = 1\n",
    "#markers updated by watershed\n",
    "markers_updated= False"
   ]
  },
  {
   "cell_type": "code",
   "execution_count": null,
   "metadata": {},
   "outputs": [],
   "source": [
    "##callback func\n",
    "\n",
    "def mouse_callback(event,x,y,flags,param):\n",
    "    global markers_updated\n",
    "\n",
    "    if event == cv2.EVENT_LBUTTONDOWN:\n",
    "        #watershed'e gönderilen markerlar\n",
    "        cv2.circle(marker_image,(x,y),10,(current_marker),-1)\n",
    "\n",
    "        #userların gördüğü \n",
    "        cv2.circle(road_copy,(x,y),10,colors[current_marker],-1)\n",
    "\n",
    "        markers_updated= True"
   ]
  },
  {
   "cell_type": "code",
   "execution_count": null,
   "metadata": {},
   "outputs": [
    {
     "ename": "error",
     "evalue": "OpenCV(4.10.0) :-1: error: (-5:Bad argument) in function 'circle'\n> Overload resolution failed:\n>  - img data type = uint32 is not supported\n>  - Expected Ptr<cv::UMat> for argument 'img'\n",
     "output_type": "error",
     "traceback": [
      "\u001b[1;31m---------------------------------------------------------------------------\u001b[0m",
      "\u001b[1;31merror\u001b[0m                                     Traceback (most recent call last)",
      "Cell \u001b[1;32mIn[11], line 8\u001b[0m, in \u001b[0;36mmouse_callback\u001b[1;34m(event, x, y, flags, param)\u001b[0m\n\u001b[0;32m      4\u001b[0m \u001b[38;5;28;01mglobal\u001b[39;00m markers_updated\n\u001b[0;32m      6\u001b[0m \u001b[38;5;28;01mif\u001b[39;00m event \u001b[38;5;241m==\u001b[39m cv2\u001b[38;5;241m.\u001b[39mEVENT_LBUTTONDOWN:\n\u001b[0;32m      7\u001b[0m     \u001b[38;5;66;03m#watershed'e gönderilen markerlar\u001b[39;00m\n\u001b[1;32m----> 8\u001b[0m     \u001b[43mcv2\u001b[49m\u001b[38;5;241;43m.\u001b[39;49m\u001b[43mcircle\u001b[49m\u001b[43m(\u001b[49m\u001b[43mmarker_image\u001b[49m\u001b[43m,\u001b[49m\u001b[43m(\u001b[49m\u001b[43mx\u001b[49m\u001b[43m,\u001b[49m\u001b[43my\u001b[49m\u001b[43m)\u001b[49m\u001b[43m,\u001b[49m\u001b[38;5;241;43m10\u001b[39;49m\u001b[43m,\u001b[49m\u001b[43m(\u001b[49m\u001b[43mcurrent_marker\u001b[49m\u001b[43m)\u001b[49m\u001b[43m,\u001b[49m\u001b[38;5;241;43m-\u001b[39;49m\u001b[38;5;241;43m1\u001b[39;49m\u001b[43m)\u001b[49m\n\u001b[0;32m     10\u001b[0m     \u001b[38;5;66;03m#userların gördüğü \u001b[39;00m\n\u001b[0;32m     11\u001b[0m     cv2\u001b[38;5;241m.\u001b[39mcircle(road_copy,(x,y),\u001b[38;5;241m10\u001b[39m,colors[current_marker],\u001b[38;5;241m-\u001b[39m\u001b[38;5;241m1\u001b[39m)\n",
      "\u001b[1;31merror\u001b[0m: OpenCV(4.10.0) :-1: error: (-5:Bad argument) in function 'circle'\n> Overload resolution failed:\n>  - img data type = uint32 is not supported\n>  - Expected Ptr<cv::UMat> for argument 'img'\n"
     ]
    },
    {
     "ename": "error",
     "evalue": "OpenCV(4.10.0) :-1: error: (-5:Bad argument) in function 'circle'\n> Overload resolution failed:\n>  - img data type = uint32 is not supported\n>  - Expected Ptr<cv::UMat> for argument 'img'\n",
     "output_type": "error",
     "traceback": [
      "\u001b[1;31m---------------------------------------------------------------------------\u001b[0m",
      "\u001b[1;31merror\u001b[0m                                     Traceback (most recent call last)",
      "Cell \u001b[1;32mIn[11], line 8\u001b[0m, in \u001b[0;36mmouse_callback\u001b[1;34m(event, x, y, flags, param)\u001b[0m\n\u001b[0;32m      4\u001b[0m \u001b[38;5;28;01mglobal\u001b[39;00m markers_updated\n\u001b[0;32m      6\u001b[0m \u001b[38;5;28;01mif\u001b[39;00m event \u001b[38;5;241m==\u001b[39m cv2\u001b[38;5;241m.\u001b[39mEVENT_LBUTTONDOWN:\n\u001b[0;32m      7\u001b[0m     \u001b[38;5;66;03m#watershed'e gönderilen markerlar\u001b[39;00m\n\u001b[1;32m----> 8\u001b[0m     \u001b[43mcv2\u001b[49m\u001b[38;5;241;43m.\u001b[39;49m\u001b[43mcircle\u001b[49m\u001b[43m(\u001b[49m\u001b[43mmarker_image\u001b[49m\u001b[43m,\u001b[49m\u001b[43m(\u001b[49m\u001b[43mx\u001b[49m\u001b[43m,\u001b[49m\u001b[43my\u001b[49m\u001b[43m)\u001b[49m\u001b[43m,\u001b[49m\u001b[38;5;241;43m10\u001b[39;49m\u001b[43m,\u001b[49m\u001b[43m(\u001b[49m\u001b[43mcurrent_marker\u001b[49m\u001b[43m)\u001b[49m\u001b[43m,\u001b[49m\u001b[38;5;241;43m-\u001b[39;49m\u001b[38;5;241;43m1\u001b[39;49m\u001b[43m)\u001b[49m\n\u001b[0;32m     10\u001b[0m     \u001b[38;5;66;03m#userların gördüğü \u001b[39;00m\n\u001b[0;32m     11\u001b[0m     cv2\u001b[38;5;241m.\u001b[39mcircle(road_copy,(x,y),\u001b[38;5;241m10\u001b[39m,colors[current_marker],\u001b[38;5;241m-\u001b[39m\u001b[38;5;241m1\u001b[39m)\n",
      "\u001b[1;31merror\u001b[0m: OpenCV(4.10.0) :-1: error: (-5:Bad argument) in function 'circle'\n> Overload resolution failed:\n>  - img data type = uint32 is not supported\n>  - Expected Ptr<cv::UMat> for argument 'img'\n"
     ]
    },
    {
     "ename": "",
     "evalue": "",
     "output_type": "error",
     "traceback": [
      "\u001b[1;31mThe Kernel crashed while executing code in the current cell or a previous cell. \n",
      "\u001b[1;31mPlease review the code in the cell(s) to identify a possible cause of the failure. \n",
      "\u001b[1;31mClick <a href='https://aka.ms/vscodeJupyterKernelCrash'>here</a> for more info. \n",
      "\u001b[1;31mView Jupyter <a href='command:jupyter.viewOutput'>log</a> for further details."
     ]
    }
   ],
   "source": [
    "#while kısmı\n",
    "cv2.namedWindow('Road Image')\n",
    "cv2.setMouseCallback('Road Image',mouse_callback)\n",
    "\n",
    "while True:\n",
    "    cv2.imshow('Watershed Segments',segments)\n",
    "    cv2.imshow('Road Images',road_copy)\n",
    "\n",
    "    #close all wind\n",
    "    k = cv2.waitKey(1)\n",
    "\n",
    "    if k == 27:\n",
    "        break\n",
    "\n",
    "    #clearing all colors if the user presses the c key\n",
    "    elif k == ord('c'):\n",
    "        road_copy=road.copy()\n",
    "        marker_image= np.zeros(road.shape[:2],dtype=np.uint32)\n",
    "        segments = np.zeros(road.shape,dtype=np.uint8)\n",
    "    \n",
    "    #update color choice\n",
    "    elif k > 0 and chr(k).isdigit():\n",
    "        current_marker = int(chr(k)) #klayve ile basılan tuşu indexlemek için.\n",
    "        \n",
    "\n",
    "    #update the markings\n",
    "    if markers_updated:\n",
    "        marker_image_copy = marker_image.copy()\n",
    "        cv2.watershed(road,marker_image_copy)\n",
    "\n",
    "        segments= np.zeros(road.shape,dtype=np.uint8)\n",
    "\n",
    "        for color_ind in range(n_markers):\n",
    "            #coloring the segments, numpy call\n",
    "            segments[marker_image_copy==(color_ind)]= colors[color_ind]"
   ]
  },
  {
   "cell_type": "code",
   "execution_count": null,
   "metadata": {},
   "outputs": [],
   "source": []
  }
 ],
 "metadata": {
  "kernelspec": {
   "display_name": "Python 3",
   "language": "python",
   "name": "python3"
  },
  "language_info": {
   "codemirror_mode": {
    "name": "ipython",
    "version": 3
   },
   "file_extension": ".py",
   "mimetype": "text/x-python",
   "name": "python",
   "nbconvert_exporter": "python",
   "pygments_lexer": "ipython3",
   "version": "3.11.1"
  }
 },
 "nbformat": 4,
 "nbformat_minor": 2
}
