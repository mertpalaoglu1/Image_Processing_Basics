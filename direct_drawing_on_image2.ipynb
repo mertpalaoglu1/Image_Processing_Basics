{
 "cells": [
  {
   "cell_type": "code",
   "execution_count": 1,
   "metadata": {},
   "outputs": [],
   "source": [
    "import cv2 \n",
    "import numpy as np\n",
    "\n",
    "# VARIABLES\n",
    "drawing = False #mouse basılıyken true olacak, kalkınca false olacak\n",
    "ix= -1\n",
    "iy= -1\n",
    "\n",
    "#FUNCTION\n",
    "def draw_rectangle(event, x, y, flag, params):\n",
    "    \n",
    "    global ix,iy,drawing\n",
    "\n",
    "    if event == cv2.EVENT_LBUTTONDOWN:\n",
    "        drawing= True #çiziyoruz demek.\n",
    "        ix,iy=x,y #bastığın andaki x-y'yi alsın diye\n",
    "\n",
    "    elif event == cv2.EVENT_MOUSEMOVE:\n",
    "        if drawing==True:\n",
    "            cv2.rectangle(img,(ix,iy),(x,y),color=(0,255,0),thickness=-1) #en sondaki x,y dikdörtgenin sağ aşşağası yani bittiği noktayı belirtiyor. ix,iy ise sol üstü yani başını.\n",
    "    elif event == cv2.EVENT_LBUTTONUP:\n",
    "          drawing=False\n",
    "          cv2.rectangle(img,(ix,iy),(x,y),color=(0,255,0),thickness=-1) #sonuncuyu tekrar çizerek bitiyoruz.\n",
    "\n",
    "#SHOWING IMAGE\n",
    "img= np.zeros((512,512,3))\n",
    "\n",
    "cv2.namedWindow(winname='benimCizim')\n",
    "cv2.setMouseCallback('benimCizim',draw_rectangle)\n",
    "\n",
    "while True:\n",
    "    cv2.imshow('benimCizim',img)\n",
    "    if cv2.waitKey(1) & 0xFF == 27:\n",
    "        break\n",
    "cv2.destroyAllWindows()    "
   ]
  },
  {
   "cell_type": "code",
   "execution_count": null,
   "metadata": {},
   "outputs": [],
   "source": []
  }
 ],
 "metadata": {
  "kernelspec": {
   "display_name": "Python 3",
   "language": "python",
   "name": "python3"
  },
  "language_info": {
   "codemirror_mode": {
    "name": "ipython",
    "version": 3
   },
   "file_extension": ".py",
   "mimetype": "text/x-python",
   "name": "python",
   "nbconvert_exporter": "python",
   "pygments_lexer": "ipython3",
   "version": "3.11.1"
  }
 },
 "nbformat": 4,
 "nbformat_minor": 2
}
