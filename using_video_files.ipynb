{
 "cells": [
  {
   "cell_type": "code",
   "execution_count": null,
   "metadata": {},
   "outputs": [],
   "source": [
    "import cv2\n",
    "from time import sleep\n",
    "cap = cv2.VideoCapture('ilkvideom.mp4') # 0 yazdığımızda kamera alıyor, böyle yapınca o file'ı alıyor.\n",
    "\n",
    "if cap.isOpened==False: #file bulundu mu diye test\n",
    "    print('error dosya bulunamadi ya da yanlış codec kullanıldı.')\n",
    "\n",
    "while cap.isOpened:\n",
    "\n",
    "    ret,frame = cap.read()\n",
    "\n",
    "    if ret == True:\n",
    "        #writer 25 fps'ti.\n",
    "        sleep(1/25) #videoyu kendimiz de görelim diye yavaşlattık.\n",
    "        cv2.imshow('frame',frame)\n",
    "\n",
    "        if cv2.waitKey(10) & 0xFF== ord('c'):\n",
    "            break\n",
    "    else:\n",
    "        break #bir şey görmüyorsak, bittiyse kapa direkt.        \n",
    "cap.release()\n",
    "cv2.destroyAllWindows()"
   ]
  }
 ],
 "metadata": {
  "kernelspec": {
   "display_name": "Python 3",
   "language": "python",
   "name": "python3"
  },
  "language_info": {
   "codemirror_mode": {
    "name": "ipython",
    "version": 3
   },
   "file_extension": ".py",
   "mimetype": "text/x-python",
   "name": "python",
   "nbconvert_exporter": "python",
   "pygments_lexer": "ipython3",
   "version": "3.11.1"
  }
 },
 "nbformat": 4,
 "nbformat_minor": 2
}
