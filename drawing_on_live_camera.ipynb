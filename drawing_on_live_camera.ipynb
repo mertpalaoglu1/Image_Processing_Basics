{
 "cells": [
  {
   "cell_type": "code",
   "execution_count": null,
   "metadata": {},
   "outputs": [],
   "source": [
    "import cv2 \n",
    "'''Manuel olarak çizme'''\n",
    "cap = cv2.VideoCapture(0)\n",
    "\n",
    "width= int(cap.get(cv2.CAP_PROP_FRAME_WIDTH)) #kaydedilen videonun boyutlarını aldık.\n",
    "height= int(cap.get(cv2.CAP_PROP_FRAME_HEIGHT))\n",
    "\n",
    "#top left corner\n",
    "x = width // 2 \n",
    "y = height // 2 #integer bölmesi\n",
    "\n",
    "#width and height of rectangle\n",
    "w= width //4\n",
    "h = height //4 \n",
    "\n",
    "# bottom right x+w, y+h\n",
    "\n",
    "while True:\n",
    "    ret,frame= cap.read()\n",
    "\n",
    "    cv2.rectangle(frame,(x,y),(x+w,y+h),color=(0,255,0),thickness=4)\n",
    "    cv2.imshow('frame',frame)\n",
    "\n",
    "    if cv2.waitKey(10) & 0xFF==ord('q'):\n",
    "        break\n",
    "cap.release()    \n",
    "cv2.destroyAllWindows()    "
   ]
  }
 ],
 "metadata": {
  "kernelspec": {
   "display_name": "Python 3",
   "language": "python",
   "name": "python3"
  },
  "language_info": {
   "codemirror_mode": {
    "name": "ipython",
    "version": 3
   },
   "file_extension": ".py",
   "mimetype": "text/x-python",
   "name": "python",
   "nbconvert_exporter": "python",
   "pygments_lexer": "ipython3",
   "version": "3.11.1"
  }
 },
 "nbformat": 4,
 "nbformat_minor": 2
}
