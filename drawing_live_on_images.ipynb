{
 "cells": [
  {
   "cell_type": "code",
   "execution_count": null,
   "metadata": {},
   "outputs": [],
   "source": [
    "import cv2 \n",
    "#bunu çok kullanmayacak.\n",
    "'''Manuel olarak çizme'''\n",
    "\n",
    "##callback function rectangle:\n",
    "def draw_rectangle(event,x,y,flags,param):\n",
    "    global pt1,pt2,topLeft_Clicked,botRight_Clicked #değişkenleri aldık.\n",
    "\n",
    "    if event== cv2.EVENT_LBUTTONDOWN:\n",
    "\n",
    "        #Reset rectangle (it checks if the rect there)\n",
    "        if topLeft_Clicked == True and botRight_Clicked == True:\n",
    "            pt1=(0,0)\n",
    "            pt2= (0,0)\n",
    "            topLeft_Clicked= False\n",
    "            botRight_Clicked= False\n",
    "\n",
    "        if topLeft_Clicked == False:\n",
    "            pt1=(x,y)\n",
    "            topLeft_Clicked = True\n",
    "\n",
    "        elif botRight_Clicked == False:\n",
    "            pt2=(x,y)\n",
    "            botRight_Clicked= True    \n",
    "       \n",
    "##global variabels\n",
    "pt1=(0,0)\n",
    "pt2=(0,0)\n",
    "topLeft_Clicked= False\n",
    "botRight_Clicked= False\n",
    "\n",
    "## connect to the call back\n",
    "\n",
    "cap = cv2.VideoCapture(0)\n",
    "cv2.namedWindow('Test')\n",
    "cv2.setMouseCallback('Test',draw_rectangle)\n",
    "while True:\n",
    "    ret,frame= cap.read()\n",
    "\n",
    "    #drawing on the frame based of global variables\n",
    "    if topLeft_Clicked == True:\n",
    "        cv2.circle(frame,center=(pt1),radius=3,color=(0,0,255),thickness=-1)#nereye tıkladığımızı görek diye\n",
    "    if topLeft_Clicked and botRight_Clicked:\n",
    "        cv2.rectangle(frame,pt1,pt2,(0,0,255),3)\n",
    "\n",
    "    cv2.imshow('Test',frame)\n",
    "\n",
    "    if cv2.waitKey(10) & 0xFF==ord('q'):\n",
    "        break\n",
    "cap.release()    \n",
    "cv2.destroyAllWindows()    "
   ]
  }
 ],
 "metadata": {
  "kernelspec": {
   "display_name": "Python 3",
   "language": "python",
   "name": "python3"
  },
  "language_info": {
   "codemirror_mode": {
    "name": "ipython",
    "version": 3
   },
   "file_extension": ".py",
   "mimetype": "text/x-python",
   "name": "python",
   "nbconvert_exporter": "python",
   "pygments_lexer": "ipython3",
   "version": "3.11.1"
  }
 },
 "nbformat": 4,
 "nbformat_minor": 2
}
