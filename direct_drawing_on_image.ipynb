{
 "cells": [
  {
   "cell_type": "code",
   "execution_count": 1,
   "metadata": {},
   "outputs": [],
   "source": [
    "import cv2 \n",
    "import numpy as np\n",
    "\n",
    "##############\n",
    "## Function ##\n",
    "##############\n",
    "\n",
    "def draw_circle(event,x,y,flags,param): #x ve y mouse pozisyonu, event mouse'ın ne yaptığı. hazır dolduruluyor setmouse callback ile.\n",
    "    if event == cv2.EVENT_LBUTTONDOWN:\n",
    "        cv2.circle(img,center=(x,y),radius=100,color=(0,0,255),thickness=-1) #KIRMIZI  opencvde dizilim= B G R\n",
    "    elif event == cv2.EVENT_RBUTTONDOWN:\n",
    "         cv2.circle(img,center=(x,y),radius=100,color=(0,255,0),thickness=-1) #YEŞİL       \n",
    "\n",
    "\n",
    "cv2.namedWindow(winname='Cizimim') #isimli window olacak, ismi ona bağlayacak\n",
    "cv2.setMouseCallback('Cizimim',draw_circle) #callback functionunu bağlayacak\n",
    "\n",
    "\n",
    "##############################\n",
    "## Showing Image With Opencv ##\n",
    "##############################\n",
    "\n",
    "img = np.zeros(shape=(512,512,3)) #daha gri gözüksün diye int8 koyabiliriz.\n",
    "while True:\n",
    "    cv2.imshow('Cizimim',img)\n",
    "\n",
    "    if cv2.waitKey(20) & 0xFF== 27:\n",
    "        break\n",
    "cv2.destroyAllWindows()    "
   ]
  },
  {
   "cell_type": "code",
   "execution_count": null,
   "metadata": {},
   "outputs": [],
   "source": []
  }
 ],
 "metadata": {
  "kernelspec": {
   "display_name": "Python 3",
   "language": "python",
   "name": "python3"
  },
  "language_info": {
   "codemirror_mode": {
    "name": "ipython",
    "version": 3
   },
   "file_extension": ".py",
   "mimetype": "text/x-python",
   "name": "python",
   "nbconvert_exporter": "python",
   "pygments_lexer": "ipython3",
   "version": "3.11.1"
  }
 },
 "nbformat": 4,
 "nbformat_minor": 2
}
