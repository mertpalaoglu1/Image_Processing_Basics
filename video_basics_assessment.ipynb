{
 "cells": [
  {
   "cell_type": "code",
   "execution_count": null,
   "metadata": {},
   "outputs": [],
   "source": [
    "import cv2\n",
    "def yuvarlak_çiz(event,x,y,param,flags):\n",
    "    global center, clicked \n",
    "\n",
    "    if event == cv2.EVENT_LBUTTONDOWN:\n",
    "        center = (x,y)\n",
    "        clicked = False\n",
    "\n",
    "    if event == cv2.EVENT_LBUTTONUP:\n",
    "        clicked= True    \n",
    "        \n",
    "\n",
    "#bir şey çizilmemiş hali:\n",
    "center = (0,0)\n",
    "clicked= False\n",
    "\n",
    "cap=cv2.VideoCapture(0)\n",
    "\n",
    "cv2.namedWindow('test')\n",
    "cv2.setMouseCallback('test',yuvarlak_çiz)\n",
    "\n",
    "while True:\n",
    "    ret,frame = cap.read()\n",
    "\n",
    "    if clicked == True:\n",
    "        cv2.circle(frame,center,50,(0,255,0),5)\n",
    "\n",
    "    cv2.imshow('test',frame)\n",
    "\n",
    "\n",
    "    if cv2.waitKey(10) & 0xFF==ord('q'):\n",
    "        break\n",
    " \n",
    "cap.release()        \n",
    "cv2.destroyAllWindows()\n"
   ]
  }
 ],
 "metadata": {
  "kernelspec": {
   "display_name": "Python 3",
   "language": "python",
   "name": "python3"
  },
  "language_info": {
   "codemirror_mode": {
    "name": "ipython",
    "version": 3
   },
   "file_extension": ".py",
   "mimetype": "text/x-python",
   "name": "python",
   "nbconvert_exporter": "python",
   "pygments_lexer": "ipython3",
   "version": "3.11.1"
  }
 },
 "nbformat": 4,
 "nbformat_minor": 2
}
