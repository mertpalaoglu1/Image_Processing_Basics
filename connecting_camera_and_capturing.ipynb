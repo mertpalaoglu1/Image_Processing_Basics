{
 "cells": [
  {
   "cell_type": "code",
   "execution_count": null,
   "metadata": {},
   "outputs": [],
   "source": [
    "# Kamera ile çalışırken tek bir notebook olması lazım, öbür türlü buglanabiliyor.\n",
    "import cv2\n",
    "\n",
    "capture = cv2.VideoCapture(0) #default camerayı alır.\n",
    "\n",
    "width = int(capture.get(cv2.CAP_PROP_FRAME_WIDTH)) #1080.0 gibi float döndürür\n",
    "height =int(capture.get(cv2.CAP_PROP_FRAME_HEIGHT))\n",
    "\n",
    "#windows = *'DIVX'\n",
    "#MACOS or LINUX = *'XVID'\n",
    "\n",
    "writer = cv2.VideoWriter('ilkvideom.mp4', cv2.VideoWriter_fourcc(*'DIVX'),fps=25,frameSize=(width,height))\n",
    "\n",
    "while True:\n",
    "    ret,frame = capture.read() #bu frame objesini (tupple olarak geliyor) kullanacağız.\n",
    "    \n",
    "    #OPERATIONS (örneğin çizim olabilir)\n",
    "    writer.write(frame) #her frami kaydediyor.\n",
    "\n",
    "   # gray =cv2.cvtColor(frame, cv2.COLOR_BGR2GRAY) #gri olacak.\n",
    "    cv2.imshow('frame',frame) \n",
    "\n",
    "    if cv2.waitKey(1) & 0xFF== ord('q'): #q basınca kapanıyor\n",
    "        break\n",
    "capture.release() #kamera görüntüsünü kapamak için.\n",
    "writer.release() \n",
    "cv2.destroyAllWindows()"
   ]
  }
 ],
 "metadata": {
  "kernelspec": {
   "display_name": "Python 3",
   "language": "python",
   "name": "python3"
  },
  "language_info": {
   "codemirror_mode": {
    "name": "ipython",
    "version": 3
   },
   "file_extension": ".py",
   "mimetype": "text/x-python",
   "name": "python",
   "nbconvert_exporter": "python",
   "pygments_lexer": "ipython3",
   "version": "3.11.1"
  }
 },
 "nbformat": 4,
 "nbformat_minor": 2
}
